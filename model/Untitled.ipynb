{
 "cells": [
  {
   "cell_type": "code",
   "execution_count": 9,
   "id": "aea99ce7",
   "metadata": {},
   "outputs": [],
   "source": [
    "import numpy as np\n",
    "import cv2\n",
    "import matplotlib\n",
    "from matplotlib import pyplot as plt\n",
    "%matplotlib inline"
   ]
  },
  {
   "cell_type": "code",
   "execution_count": 10,
   "id": "fc477cd3",
   "metadata": {},
   "outputs": [],
   "source": [
    "import numpy as np\n",
    "import pywt\n",
    "import cv2    \n",
    "\n",
    "def w2d(img, mode='haar', level=1):\n",
    "    imArray = img\n",
    "    #Datatype conversions\n",
    "    #convert to grayscale\n",
    "    imArray = cv2.cvtColor( imArray,cv2.COLOR_RGB2GRAY )\n",
    "    #convert to float\n",
    "    imArray =  np.float32(imArray)   \n",
    "    imArray /= 255;\n",
    "    # compute coefficients \n",
    "    coeffs=pywt.wavedec2(imArray, mode, level=level)\n",
    "\n",
    "    #Process Coefficients\n",
    "    coeffs_H=list(coeffs)  \n",
    "    coeffs_H[0] *= 0;  \n",
    "\n",
    "    # reconstruction\n",
    "    imArray_H=pywt.waverec2(coeffs_H, mode);\n",
    "    imArray_H *= 255;\n",
    "    imArray_H =  np.uint8(imArray_H)\n",
    "\n",
    "    return imArray_H"
   ]
  },
  {
   "cell_type": "code",
   "execution_count": 11,
   "id": "32edca30",
   "metadata": {},
   "outputs": [],
   "source": [
    "def get_cropped_image_if_2_eyes(image_path):\n",
    "    img = cv2.imread(image_path)\n",
    "    if img is not None:\n",
    "        gray = cv2.cvtColor(img, cv2.COLOR_BGR2GRAY)\n",
    "        faces = face_cascade.detectMultiScale(gray, 1.3, 5)\n",
    "        for (x,y,w,h) in faces:\n",
    "            roi_gray = gray[y:y+h, x:x+w]\n",
    "            roi_color = img[y:y+h, x:x+w]\n",
    "            eyes = eye_cascade.detectMultiScale(roi_gray)\n",
    "            if len(eyes) >= 2:\n",
    "                            return roi_color\n"
   ]
  },
  {
   "cell_type": "code",
   "execution_count": 12,
   "id": "8bed03ff",
   "metadata": {},
   "outputs": [],
   "source": [
    "path_to_data = \"./dataset/\"\n",
    "path_to_cr_data = \"./dataset/cropped/\""
   ]
  },
  {
   "cell_type": "code",
   "execution_count": 13,
   "id": "4e92e310",
   "metadata": {},
   "outputs": [],
   "source": [
    "import os\n",
    "img_dirs = []\n",
    "for entry in os.scandir(path_to_data):\n",
    "    if entry.is_dir():\n",
    "        img_dirs.append(entry.path)"
   ]
  },
  {
   "cell_type": "code",
   "execution_count": 14,
   "id": "83866d19",
   "metadata": {},
   "outputs": [
    {
     "data": {
      "text/plain": [
       "['./dataset/virat kohli',\n",
       " './dataset/stef curry',\n",
       " './dataset/pvsindu',\n",
       " './dataset/sanya mirza',\n",
       " './dataset/Messi',\n",
       " './dataset/cropped']"
      ]
     },
     "execution_count": 14,
     "metadata": {},
     "output_type": "execute_result"
    }
   ],
   "source": [
    "img_dirs"
   ]
  },
  {
   "cell_type": "code",
   "execution_count": 15,
   "id": "8cfa77ab",
   "metadata": {},
   "outputs": [],
   "source": [
    "import shutil\n",
    "if os.path.exists(path_to_cr_data):\n",
    "     shutil.rmtree(path_to_cr_data)\n",
    "os.mkdir(path_to_cr_data)"
   ]
  },
  {
   "cell_type": "code",
   "execution_count": 16,
   "id": "3c14bc9a",
   "metadata": {},
   "outputs": [
    {
     "ename": "NameError",
     "evalue": "name 'face_cascade' is not defined",
     "output_type": "error",
     "traceback": [
      "\u001b[0;31m---------------------------------------------------------------------------\u001b[0m",
      "\u001b[0;31mNameError\u001b[0m                                 Traceback (most recent call last)",
      "Cell \u001b[0;32mIn[16], line 8\u001b[0m\n\u001b[1;32m      6\u001b[0m celebrity_file_names_dict[celebrity_name] \u001b[38;5;241m=\u001b[39m []\n\u001b[1;32m      7\u001b[0m \u001b[38;5;28;01mfor\u001b[39;00m entry \u001b[38;5;129;01min\u001b[39;00m os\u001b[38;5;241m.\u001b[39mscandir(img_dir):\n\u001b[0;32m----> 8\u001b[0m     roi_color \u001b[38;5;241m=\u001b[39m \u001b[43mget_cropped_image_if_2_eyes\u001b[49m\u001b[43m(\u001b[49m\u001b[43mentry\u001b[49m\u001b[38;5;241;43m.\u001b[39;49m\u001b[43mpath\u001b[49m\u001b[43m)\u001b[49m\n\u001b[1;32m      9\u001b[0m     \u001b[38;5;28;01mif\u001b[39;00m roi_color \u001b[38;5;129;01mis\u001b[39;00m \u001b[38;5;129;01mnot\u001b[39;00m \u001b[38;5;28;01mNone\u001b[39;00m:\n\u001b[1;32m     10\u001b[0m         cropped_folder \u001b[38;5;241m=\u001b[39m path_to_cr_data \u001b[38;5;241m+\u001b[39m celebrity_name\n",
      "Cell \u001b[0;32mIn[11], line 5\u001b[0m, in \u001b[0;36mget_cropped_image_if_2_eyes\u001b[0;34m(image_path)\u001b[0m\n\u001b[1;32m      3\u001b[0m \u001b[38;5;28;01mif\u001b[39;00m img \u001b[38;5;129;01mis\u001b[39;00m \u001b[38;5;129;01mnot\u001b[39;00m \u001b[38;5;28;01mNone\u001b[39;00m:\n\u001b[1;32m      4\u001b[0m     gray \u001b[38;5;241m=\u001b[39m cv2\u001b[38;5;241m.\u001b[39mcvtColor(img, cv2\u001b[38;5;241m.\u001b[39mCOLOR_BGR2GRAY)\n\u001b[0;32m----> 5\u001b[0m     faces \u001b[38;5;241m=\u001b[39m \u001b[43mface_cascade\u001b[49m\u001b[38;5;241m.\u001b[39mdetectMultiScale(gray, \u001b[38;5;241m1.3\u001b[39m, \u001b[38;5;241m5\u001b[39m)\n\u001b[1;32m      6\u001b[0m     \u001b[38;5;28;01mfor\u001b[39;00m (x,y,w,h) \u001b[38;5;129;01min\u001b[39;00m faces:\n\u001b[1;32m      7\u001b[0m         roi_gray \u001b[38;5;241m=\u001b[39m gray[y:y\u001b[38;5;241m+\u001b[39mh, x:x\u001b[38;5;241m+\u001b[39mw]\n",
      "\u001b[0;31mNameError\u001b[0m: name 'face_cascade' is not defined"
     ]
    }
   ],
   "source": [
    "cropped_image_dirs = []\n",
    "celebrity_file_names_dict = {}\n",
    "for img_dir in img_dirs:\n",
    "    count = 1\n",
    "    celebrity_name = img_dir.split('/')[-1]\n",
    "    celebrity_file_names_dict[celebrity_name] = []\n",
    "    for entry in os.scandir(img_dir):\n",
    "        roi_color = get_cropped_image_if_2_eyes(entry.path)\n",
    "        if roi_color is not None:\n",
    "            cropped_folder = path_to_cr_data + celebrity_name\n",
    "            if not os.path.exists(cropped_folder):\n",
    "                os.makedirs(cropped_folder)\n",
    "                cropped_image_dirs.append(cropped_folder)\n",
    "                print(\"Generating cropped images in folder: \",cropped_folder)\n",
    "            cropped_file_name = celebrity_name + str(count) + \".png\"\n",
    "            cropped_file_path = cropped_folder + \"/\" + cropped_file_name\n",
    "            cv2.imwrite(cropped_file_path, roi_color)\n",
    "            celebrity_file_names_dict[celebrity_name].append(cropped_file_path)\n",
    "            count += 1"
   ]
  },
  {
   "cell_type": "code",
   "execution_count": 9,
   "id": "e4f52e1f",
   "metadata": {},
   "outputs": [
    {
     "ename": "NameError",
     "evalue": "name 'gray' is not defined",
     "output_type": "error",
     "traceback": [
      "\u001b[0;31m---------------------------------------------------------------------------\u001b[0m",
      "\u001b[0;31mNameError\u001b[0m                                 Traceback (most recent call last)",
      "\u001b[0;32m/var/folders/mr/826w0d2122j_7tfttc94_8wh0000gn/T/ipykernel_8359/2963945258.py\u001b[0m in \u001b[0;36m<module>\u001b[0;34m\u001b[0m\n\u001b[1;32m      2\u001b[0m \u001b[0meye_cascade\u001b[0m \u001b[0;34m=\u001b[0m \u001b[0mcv2\u001b[0m\u001b[0;34m.\u001b[0m\u001b[0mCascadeClassifier\u001b[0m\u001b[0;34m(\u001b[0m\u001b[0;34m'./opencv/haarcascades/haarcascade_eye.xml'\u001b[0m\u001b[0;34m)\u001b[0m\u001b[0;34m\u001b[0m\u001b[0;34m\u001b[0m\u001b[0m\n\u001b[1;32m      3\u001b[0m \u001b[0;34m\u001b[0m\u001b[0m\n\u001b[0;32m----> 4\u001b[0;31m \u001b[0mfaces\u001b[0m \u001b[0;34m=\u001b[0m \u001b[0mface_cascade\u001b[0m\u001b[0;34m.\u001b[0m\u001b[0mdetectMultiScale\u001b[0m\u001b[0;34m(\u001b[0m\u001b[0mgray\u001b[0m\u001b[0;34m,\u001b[0m \u001b[0;36m1.3\u001b[0m\u001b[0;34m,\u001b[0m \u001b[0;36m5\u001b[0m\u001b[0;34m)\u001b[0m\u001b[0;34m\u001b[0m\u001b[0;34m\u001b[0m\u001b[0m\n\u001b[0m\u001b[1;32m      5\u001b[0m \u001b[0mfaces\u001b[0m\u001b[0;34m\u001b[0m\u001b[0;34m\u001b[0m\u001b[0m\n",
      "\u001b[0;31mNameError\u001b[0m: name 'gray' is not defined"
     ]
    }
   ],
   "source": [
    "face_cascade = cv2.CascadeClassifier('./opencv/haarcascades/haarcascade_frontalface_default.xml')\n",
    "eye_cascade = cv2.CascadeClassifier('./opencv/haarcascades/haarcascade_eye.xml')\n",
    "\n",
    "faces = face_cascade.detectMultiScale(gray, 1.3, 5)\n",
    "faces"
   ]
  },
  {
   "cell_type": "code",
   "execution_count": 10,
   "id": "076d78cd",
   "metadata": {},
   "outputs": [],
   "source": [
    "face_cascade = cv2.CascadeClassifier('./opencv/haarcascades/haarcascade_frontalface_default.xml')\n",
    "eye_cascade = cv2.CascadeClassifier('./opencv/haarcascades/haarcascade_eye.xml')\n",
    "\n"
   ]
  },
  {
   "cell_type": "code",
   "execution_count": 11,
   "id": "667533b8",
   "metadata": {},
   "outputs": [
    {
     "name": "stdout",
     "output_type": "stream",
     "text": [
      "Generating cropped images in folder:  ./dataset/cropped/virat kohli\n",
      "Generating cropped images in folder:  ./dataset/cropped/stef curry\n",
      "Generating cropped images in folder:  ./dataset/cropped/sanya mirza\n",
      "Generating cropped images in folder:  ./dataset/cropped/Usain bolt \n"
     ]
    },
    {
     "name": "stderr",
     "output_type": "stream",
     "text": [
      "libpng warning: iCCP: known incorrect sRGB profile\n"
     ]
    },
    {
     "name": "stdout",
     "output_type": "stream",
     "text": [
      "Generating cropped images in folder:  ./dataset/cropped/Messi\n"
     ]
    }
   ],
   "source": [
    "cropped_image_dirs = []\n",
    "celebrity_file_names_dict = {}\n",
    "for img_dir in img_dirs:\n",
    "    count = 1\n",
    "    celebrity_name = img_dir.split('/')[-1]\n",
    "    celebrity_file_names_dict[celebrity_name] = []\n",
    "    for entry in os.scandir(img_dir):\n",
    "        roi_color = get_cropped_image_if_2_eyes(entry.path)\n",
    "        if roi_color is not None:\n",
    "            cropped_folder = path_to_cr_data + celebrity_name\n",
    "            if not os.path.exists(cropped_folder):\n",
    "                os.makedirs(cropped_folder)\n",
    "                cropped_image_dirs.append(cropped_folder)\n",
    "                print(\"Generating cropped images in folder: \",cropped_folder)\n",
    "            cropped_file_name = celebrity_name + str(count) + \".png\"\n",
    "            cropped_file_path = cropped_folder + \"/\" + cropped_file_name\n",
    "            cv2.imwrite(cropped_file_path, roi_color)\n",
    "            celebrity_file_names_dict[celebrity_name].append(cropped_file_path)\n",
    "            count += 1"
   ]
  },
  {
   "cell_type": "code",
   "execution_count": 12,
   "id": "d7472b6a",
   "metadata": {},
   "outputs": [
    {
     "data": {
      "text/plain": [
       "{'virat kohli': ['./dataset/cropped/virat kohli/virat kohli3.png',\n",
       "  './dataset/cropped/virat kohli/virat kohli2.png',\n",
       "  './dataset/cropped/virat kohli/virat kohli49.png',\n",
       "  './dataset/cropped/virat kohli/virat kohli48.png',\n",
       "  './dataset/cropped/virat kohli/virat kohli1.png',\n",
       "  './dataset/cropped/virat kohli/virat kohli5.png',\n",
       "  './dataset/cropped/virat kohli/virat kohli4.png',\n",
       "  './dataset/cropped/virat kohli/virat kohli6.png',\n",
       "  './dataset/cropped/virat kohli/virat kohli7.png',\n",
       "  './dataset/cropped/virat kohli/virat kohli15.png',\n",
       "  './dataset/cropped/virat kohli/virat kohli29.png',\n",
       "  './dataset/cropped/virat kohli/virat kohli28.png',\n",
       "  './dataset/cropped/virat kohli/virat kohli14.png',\n",
       "  './dataset/cropped/virat kohli/virat kohli16.png',\n",
       "  './dataset/cropped/virat kohli/virat kohli17.png',\n",
       "  './dataset/cropped/virat kohli/virat kohli13.png',\n",
       "  './dataset/cropped/virat kohli/virat kohli12.png',\n",
       "  './dataset/cropped/virat kohli/virat kohli38.png',\n",
       "  './dataset/cropped/virat kohli/virat kohli10.png',\n",
       "  './dataset/cropped/virat kohli/virat kohli11.png',\n",
       "  './dataset/cropped/virat kohli/virat kohli39.png',\n",
       "  './dataset/cropped/virat kohli/virat kohli34.png',\n",
       "  './dataset/cropped/virat kohli/virat kohli20.png',\n",
       "  './dataset/cropped/virat kohli/virat kohli21.png',\n",
       "  './dataset/cropped/virat kohli/virat kohli35.png',\n",
       "  './dataset/cropped/virat kohli/virat kohli23.png',\n",
       "  './dataset/cropped/virat kohli/virat kohli37.png',\n",
       "  './dataset/cropped/virat kohli/virat kohli36.png',\n",
       "  './dataset/cropped/virat kohli/virat kohli22.png',\n",
       "  './dataset/cropped/virat kohli/virat kohli26.png',\n",
       "  './dataset/cropped/virat kohli/virat kohli32.png',\n",
       "  './dataset/cropped/virat kohli/virat kohli33.png',\n",
       "  './dataset/cropped/virat kohli/virat kohli27.png',\n",
       "  './dataset/cropped/virat kohli/virat kohli19.png',\n",
       "  './dataset/cropped/virat kohli/virat kohli31.png',\n",
       "  './dataset/cropped/virat kohli/virat kohli25.png',\n",
       "  './dataset/cropped/virat kohli/virat kohli24.png',\n",
       "  './dataset/cropped/virat kohli/virat kohli30.png',\n",
       "  './dataset/cropped/virat kohli/virat kohli18.png',\n",
       "  './dataset/cropped/virat kohli/virat kohli43.png',\n",
       "  './dataset/cropped/virat kohli/virat kohli42.png',\n",
       "  './dataset/cropped/virat kohli/virat kohli9.png',\n",
       "  './dataset/cropped/virat kohli/virat kohli40.png',\n",
       "  './dataset/cropped/virat kohli/virat kohli41.png',\n",
       "  './dataset/cropped/virat kohli/virat kohli8.png',\n",
       "  './dataset/cropped/virat kohli/virat kohli45.png',\n",
       "  './dataset/cropped/virat kohli/virat kohli51.png',\n",
       "  './dataset/cropped/virat kohli/virat kohli50.png',\n",
       "  './dataset/cropped/virat kohli/virat kohli44.png',\n",
       "  './dataset/cropped/virat kohli/virat kohli52.png',\n",
       "  './dataset/cropped/virat kohli/virat kohli46.png',\n",
       "  './dataset/cropped/virat kohli/virat kohli47.png',\n",
       "  './dataset/cropped/virat kohli/virat kohli53.png'],\n",
       " 'stef curry': ['./dataset/cropped/stef curry/stef curry45.png',\n",
       "  './dataset/cropped/stef curry/stef curry51.png',\n",
       "  './dataset/cropped/stef curry/stef curry50.png',\n",
       "  './dataset/cropped/stef curry/stef curry44.png',\n",
       "  './dataset/cropped/stef curry/stef curry52.png',\n",
       "  './dataset/cropped/stef curry/stef curry46.png',\n",
       "  './dataset/cropped/stef curry/stef curry47.png',\n",
       "  './dataset/cropped/stef curry/stef curry53.png',\n",
       "  './dataset/cropped/stef curry/stef curry57.png',\n",
       "  './dataset/cropped/stef curry/stef curry43.png',\n",
       "  './dataset/cropped/stef curry/stef curry42.png',\n",
       "  './dataset/cropped/stef curry/stef curry56.png',\n",
       "  './dataset/cropped/stef curry/stef curry40.png',\n",
       "  './dataset/cropped/stef curry/stef curry54.png',\n",
       "  './dataset/cropped/stef curry/stef curry55.png',\n",
       "  './dataset/cropped/stef curry/stef curry41.png',\n",
       "  './dataset/cropped/stef curry/stef curry26.png',\n",
       "  './dataset/cropped/stef curry/stef curry32.png',\n",
       "  './dataset/cropped/stef curry/stef curry33.png',\n",
       "  './dataset/cropped/stef curry/stef curry27.png',\n",
       "  './dataset/cropped/stef curry/stef curry19.png',\n",
       "  './dataset/cropped/stef curry/stef curry31.png',\n",
       "  './dataset/cropped/stef curry/stef curry25.png',\n",
       "  './dataset/cropped/stef curry/stef curry24.png',\n",
       "  './dataset/cropped/stef curry/stef curry30.png',\n",
       "  './dataset/cropped/stef curry/stef curry18.png',\n",
       "  './dataset/cropped/stef curry/stef curry34.png',\n",
       "  './dataset/cropped/stef curry/stef curry20.png',\n",
       "  './dataset/cropped/stef curry/stef curry21.png',\n",
       "  './dataset/cropped/stef curry/stef curry35.png',\n",
       "  './dataset/cropped/stef curry/stef curry23.png',\n",
       "  './dataset/cropped/stef curry/stef curry37.png',\n",
       "  './dataset/cropped/stef curry/stef curry9.png',\n",
       "  './dataset/cropped/stef curry/stef curry8.png',\n",
       "  './dataset/cropped/stef curry/stef curry36.png',\n",
       "  './dataset/cropped/stef curry/stef curry22.png',\n",
       "  './dataset/cropped/stef curry/stef curry13.png',\n",
       "  './dataset/cropped/stef curry/stef curry5.png',\n",
       "  './dataset/cropped/stef curry/stef curry4.png',\n",
       "  './dataset/cropped/stef curry/stef curry12.png',\n",
       "  './dataset/cropped/stef curry/stef curry38.png',\n",
       "  './dataset/cropped/stef curry/stef curry10.png',\n",
       "  './dataset/cropped/stef curry/stef curry6.png',\n",
       "  './dataset/cropped/stef curry/stef curry7.png',\n",
       "  './dataset/cropped/stef curry/stef curry11.png',\n",
       "  './dataset/cropped/stef curry/stef curry39.png',\n",
       "  './dataset/cropped/stef curry/stef curry15.png',\n",
       "  './dataset/cropped/stef curry/stef curry29.png',\n",
       "  './dataset/cropped/stef curry/stef curry3.png',\n",
       "  './dataset/cropped/stef curry/stef curry2.png',\n",
       "  './dataset/cropped/stef curry/stef curry28.png',\n",
       "  './dataset/cropped/stef curry/stef curry14.png',\n",
       "  './dataset/cropped/stef curry/stef curry16.png',\n",
       "  './dataset/cropped/stef curry/stef curry1.png',\n",
       "  './dataset/cropped/stef curry/stef curry17.png',\n",
       "  './dataset/cropped/stef curry/stef curry58.png',\n",
       "  './dataset/cropped/stef curry/stef curry59.png',\n",
       "  './dataset/cropped/stef curry/stef curry62.png',\n",
       "  './dataset/cropped/stef curry/stef curry61.png',\n",
       "  './dataset/cropped/stef curry/stef curry49.png',\n",
       "  './dataset/cropped/stef curry/stef curry48.png',\n",
       "  './dataset/cropped/stef curry/stef curry60.png'],\n",
       " 'sanya mirza': ['./dataset/cropped/sanya mirza/sanya mirza54.png',\n",
       "  './dataset/cropped/sanya mirza/sanya mirza40.png',\n",
       "  './dataset/cropped/sanya mirza/sanya mirza41.png',\n",
       "  './dataset/cropped/sanya mirza/sanya mirza55.png',\n",
       "  './dataset/cropped/sanya mirza/sanya mirza43.png',\n",
       "  './dataset/cropped/sanya mirza/sanya mirza57.png',\n",
       "  './dataset/cropped/sanya mirza/sanya mirza56.png',\n",
       "  './dataset/cropped/sanya mirza/sanya mirza42.png',\n",
       "  './dataset/cropped/sanya mirza/sanya mirza46.png',\n",
       "  './dataset/cropped/sanya mirza/sanya mirza52.png',\n",
       "  './dataset/cropped/sanya mirza/sanya mirza9.png',\n",
       "  './dataset/cropped/sanya mirza/sanya mirza8.png',\n",
       "  './dataset/cropped/sanya mirza/sanya mirza53.png',\n",
       "  './dataset/cropped/sanya mirza/sanya mirza47.png',\n",
       "  './dataset/cropped/sanya mirza/sanya mirza51.png',\n",
       "  './dataset/cropped/sanya mirza/sanya mirza45.png',\n",
       "  './dataset/cropped/sanya mirza/sanya mirza44.png',\n",
       "  './dataset/cropped/sanya mirza/sanya mirza50.png',\n",
       "  './dataset/cropped/sanya mirza/sanya mirza37.png',\n",
       "  './dataset/cropped/sanya mirza/sanya mirza23.png',\n",
       "  './dataset/cropped/sanya mirza/sanya mirza22.png',\n",
       "  './dataset/cropped/sanya mirza/sanya mirza36.png',\n",
       "  './dataset/cropped/sanya mirza/sanya mirza20.png',\n",
       "  './dataset/cropped/sanya mirza/sanya mirza34.png',\n",
       "  './dataset/cropped/sanya mirza/sanya mirza35.png',\n",
       "  './dataset/cropped/sanya mirza/sanya mirza21.png',\n",
       "  './dataset/cropped/sanya mirza/sanya mirza25.png',\n",
       "  './dataset/cropped/sanya mirza/sanya mirza31.png',\n",
       "  './dataset/cropped/sanya mirza/sanya mirza19.png',\n",
       "  './dataset/cropped/sanya mirza/sanya mirza18.png',\n",
       "  './dataset/cropped/sanya mirza/sanya mirza30.png',\n",
       "  './dataset/cropped/sanya mirza/sanya mirza24.png',\n",
       "  './dataset/cropped/sanya mirza/sanya mirza32.png',\n",
       "  './dataset/cropped/sanya mirza/sanya mirza26.png',\n",
       "  './dataset/cropped/sanya mirza/sanya mirza27.png',\n",
       "  './dataset/cropped/sanya mirza/sanya mirza33.png',\n",
       "  './dataset/cropped/sanya mirza/sanya mirza16.png',\n",
       "  './dataset/cropped/sanya mirza/sanya mirza17.png',\n",
       "  './dataset/cropped/sanya mirza/sanya mirza29.png',\n",
       "  './dataset/cropped/sanya mirza/sanya mirza15.png',\n",
       "  './dataset/cropped/sanya mirza/sanya mirza14.png',\n",
       "  './dataset/cropped/sanya mirza/sanya mirza28.png',\n",
       "  './dataset/cropped/sanya mirza/sanya mirza10.png',\n",
       "  './dataset/cropped/sanya mirza/sanya mirza38.png',\n",
       "  './dataset/cropped/sanya mirza/sanya mirza39.png',\n",
       "  './dataset/cropped/sanya mirza/sanya mirza11.png',\n",
       "  './dataset/cropped/sanya mirza/sanya mirza13.png',\n",
       "  './dataset/cropped/sanya mirza/sanya mirza12.png',\n",
       "  './dataset/cropped/sanya mirza/sanya mirza49.png',\n",
       "  './dataset/cropped/sanya mirza/sanya mirza61.png',\n",
       "  './dataset/cropped/sanya mirza/sanya mirza6.png',\n",
       "  './dataset/cropped/sanya mirza/sanya mirza7.png',\n",
       "  './dataset/cropped/sanya mirza/sanya mirza60.png',\n",
       "  './dataset/cropped/sanya mirza/sanya mirza48.png',\n",
       "  './dataset/cropped/sanya mirza/sanya mirza62.png',\n",
       "  './dataset/cropped/sanya mirza/sanya mirza5.png',\n",
       "  './dataset/cropped/sanya mirza/sanya mirza4.png',\n",
       "  './dataset/cropped/sanya mirza/sanya mirza63.png',\n",
       "  './dataset/cropped/sanya mirza/sanya mirza1.png',\n",
       "  './dataset/cropped/sanya mirza/sanya mirza64.png',\n",
       "  './dataset/cropped/sanya mirza/sanya mirza58.png',\n",
       "  './dataset/cropped/sanya mirza/sanya mirza3.png',\n",
       "  './dataset/cropped/sanya mirza/sanya mirza2.png',\n",
       "  './dataset/cropped/sanya mirza/sanya mirza59.png'],\n",
       " 'Usain bolt ': ['./dataset/cropped/Usain bolt /Usain bolt 1.png',\n",
       "  './dataset/cropped/Usain bolt /Usain bolt 21.png',\n",
       "  './dataset/cropped/Usain bolt /Usain bolt 20.png',\n",
       "  './dataset/cropped/Usain bolt /Usain bolt 34.png',\n",
       "  './dataset/cropped/Usain bolt /Usain bolt 2.png',\n",
       "  './dataset/cropped/Usain bolt /Usain bolt 22.png',\n",
       "  './dataset/cropped/Usain bolt /Usain bolt 23.png',\n",
       "  './dataset/cropped/Usain bolt /Usain bolt 3.png',\n",
       "  './dataset/cropped/Usain bolt /Usain bolt 7.png',\n",
       "  './dataset/cropped/Usain bolt /Usain bolt 27.png',\n",
       "  './dataset/cropped/Usain bolt /Usain bolt 33.png',\n",
       "  './dataset/cropped/Usain bolt /Usain bolt 32.png',\n",
       "  './dataset/cropped/Usain bolt /Usain bolt 26.png',\n",
       "  './dataset/cropped/Usain bolt /Usain bolt 6.png',\n",
       "  './dataset/cropped/Usain bolt /Usain bolt 4.png',\n",
       "  './dataset/cropped/Usain bolt /Usain bolt 18.png',\n",
       "  './dataset/cropped/Usain bolt /Usain bolt 30.png',\n",
       "  './dataset/cropped/Usain bolt /Usain bolt 24.png',\n",
       "  './dataset/cropped/Usain bolt /Usain bolt 25.png',\n",
       "  './dataset/cropped/Usain bolt /Usain bolt 31.png',\n",
       "  './dataset/cropped/Usain bolt /Usain bolt 19.png',\n",
       "  './dataset/cropped/Usain bolt /Usain bolt 5.png',\n",
       "  './dataset/cropped/Usain bolt /Usain bolt 8.png',\n",
       "  './dataset/cropped/Usain bolt /Usain bolt 14.png',\n",
       "  './dataset/cropped/Usain bolt /Usain bolt 28.png',\n",
       "  './dataset/cropped/Usain bolt /Usain bolt 29.png',\n",
       "  './dataset/cropped/Usain bolt /Usain bolt 15.png',\n",
       "  './dataset/cropped/Usain bolt /Usain bolt 9.png',\n",
       "  './dataset/cropped/Usain bolt /Usain bolt 17.png',\n",
       "  './dataset/cropped/Usain bolt /Usain bolt 16.png',\n",
       "  './dataset/cropped/Usain bolt /Usain bolt 12.png',\n",
       "  './dataset/cropped/Usain bolt /Usain bolt 13.png',\n",
       "  './dataset/cropped/Usain bolt /Usain bolt 11.png',\n",
       "  './dataset/cropped/Usain bolt /Usain bolt 10.png'],\n",
       " 'Messi': ['./dataset/cropped/Messi/Messi13.png',\n",
       "  './dataset/cropped/Messi/Messi12.png',\n",
       "  './dataset/cropped/Messi/Messi10.png',\n",
       "  './dataset/cropped/Messi/Messi38.png',\n",
       "  './dataset/cropped/Messi/Messi39.png',\n",
       "  './dataset/cropped/Messi/Messi11.png',\n",
       "  './dataset/cropped/Messi/Messi8.png',\n",
       "  './dataset/cropped/Messi/Messi29.png',\n",
       "  './dataset/cropped/Messi/Messi15.png',\n",
       "  './dataset/cropped/Messi/Messi14.png',\n",
       "  './dataset/cropped/Messi/Messi28.png',\n",
       "  './dataset/cropped/Messi/Messi9.png',\n",
       "  './dataset/cropped/Messi/Messi16.png',\n",
       "  './dataset/cropped/Messi/Messi17.png',\n",
       "  './dataset/cropped/Messi/Messi49.png',\n",
       "  './dataset/cropped/Messi/Messi48.png',\n",
       "  './dataset/cropped/Messi/Messi51.png',\n",
       "  './dataset/cropped/Messi/Messi45.png',\n",
       "  './dataset/cropped/Messi/Messi44.png',\n",
       "  './dataset/cropped/Messi/Messi50.png',\n",
       "  './dataset/cropped/Messi/Messi46.png',\n",
       "  './dataset/cropped/Messi/Messi47.png',\n",
       "  './dataset/cropped/Messi/Messi43.png',\n",
       "  './dataset/cropped/Messi/Messi42.png',\n",
       "  './dataset/cropped/Messi/Messi40.png',\n",
       "  './dataset/cropped/Messi/Messi41.png',\n",
       "  './dataset/cropped/Messi/Messi7.png',\n",
       "  './dataset/cropped/Messi/Messi32.png',\n",
       "  './dataset/cropped/Messi/Messi26.png',\n",
       "  './dataset/cropped/Messi/Messi27.png',\n",
       "  './dataset/cropped/Messi/Messi6.png',\n",
       "  './dataset/cropped/Messi/Messi33.png',\n",
       "  './dataset/cropped/Messi/Messi25.png',\n",
       "  './dataset/cropped/Messi/Messi31.png',\n",
       "  './dataset/cropped/Messi/Messi4.png',\n",
       "  './dataset/cropped/Messi/Messi19.png',\n",
       "  './dataset/cropped/Messi/Messi18.png',\n",
       "  './dataset/cropped/Messi/Messi30.png',\n",
       "  './dataset/cropped/Messi/Messi5.png',\n",
       "  './dataset/cropped/Messi/Messi24.png',\n",
       "  './dataset/cropped/Messi/Messi20.png',\n",
       "  './dataset/cropped/Messi/Messi1.png',\n",
       "  './dataset/cropped/Messi/Messi34.png',\n",
       "  './dataset/cropped/Messi/Messi35.png',\n",
       "  './dataset/cropped/Messi/Messi21.png',\n",
       "  './dataset/cropped/Messi/Messi37.png',\n",
       "  './dataset/cropped/Messi/Messi2.png',\n",
       "  './dataset/cropped/Messi/Messi23.png',\n",
       "  './dataset/cropped/Messi/Messi22.png',\n",
       "  './dataset/cropped/Messi/Messi36.png',\n",
       "  './dataset/cropped/Messi/Messi3.png']}"
      ]
     },
     "execution_count": 12,
     "metadata": {},
     "output_type": "execute_result"
    }
   ],
   "source": [
    "celebrity_file_names_dict = {}\n",
    "for img_dir in cropped_image_dirs:\n",
    "    celebrity_name = img_dir.split('/')[-1]\n",
    "    file_list = []\n",
    "    for entry in os.scandir(img_dir):\n",
    "        file_list.append(entry.path)\n",
    "    celebrity_file_names_dict[celebrity_name] = file_list\n",
    "celebrity_file_names_dict"
   ]
  },
  {
   "cell_type": "code",
   "execution_count": 13,
   "id": "5696b08b",
   "metadata": {},
   "outputs": [
    {
     "data": {
      "text/plain": [
       "{'virat kohli': 0,\n",
       " 'stef curry': 1,\n",
       " 'sanya mirza': 2,\n",
       " 'Usain bolt ': 3,\n",
       " 'Messi': 4}"
      ]
     },
     "execution_count": 13,
     "metadata": {},
     "output_type": "execute_result"
    }
   ],
   "source": [
    "class_dict = {}\n",
    "count = 0\n",
    "for celebrity_name in celebrity_file_names_dict.keys():\n",
    "    class_dict[celebrity_name] = count\n",
    "    count = count + 1\n",
    "class_dict"
   ]
  },
  {
   "cell_type": "code",
   "execution_count": 14,
   "id": "30524164",
   "metadata": {},
   "outputs": [],
   "source": [
    "X, y = [], []\n",
    "for celebrity_name, training_files in celebrity_file_names_dict.items():\n",
    "    for training_image in training_files:\n",
    "        img = cv2.imread(training_image) #training image c'est juste l'image recardrée de chaque sous dico qui est le nom de la célébrité\n",
    "        try:\n",
    "            scalled_raw_img = cv2.resize(img, (32, 32))#ici on veut recardrer nos images car avant d'entrainner le modèle les images doivent avoir meme dimension.\n",
    "            img_har = w2d(img,'db1',5)#appel de la fonction w2d sur chaque image\n",
    "            scalled_img_har = cv2.resize(img_har, (32, 32))#redimensionnement des images transformées avec pywt\n",
    "            combined_img = np.vstack((scalled_raw_img.reshape(32*32*3,1),scalled_img_har.reshape(32*32,1)))#les images en pleine couleur on 3 paramètres pour les rga d'ou 3 et les images transformées avec pywavelet ont une seule couleur d'ou 1.\n",
    "            X.append(combined_img)\n",
    "            y.append(class_dict[celebrity_name])\n",
    "        except:\n",
    "            break"
   ]
  },
  {
   "cell_type": "code",
   "execution_count": 15,
   "id": "0c957c08",
   "metadata": {},
   "outputs": [
    {
     "data": {
      "text/plain": [
       "4096"
      ]
     },
     "execution_count": 15,
     "metadata": {},
     "output_type": "execute_result"
    }
   ],
   "source": [
    "len(X[0])"
   ]
  },
  {
   "cell_type": "code",
   "execution_count": 16,
   "id": "860d9bf2",
   "metadata": {},
   "outputs": [
    {
     "data": {
      "text/plain": [
       "4096"
      ]
     },
     "execution_count": 16,
     "metadata": {},
     "output_type": "execute_result"
    }
   ],
   "source": [
    "32*32*3 + 32*32\n"
   ]
  },
  {
   "cell_type": "code",
   "execution_count": 17,
   "id": "fd289386",
   "metadata": {},
   "outputs": [
    {
     "data": {
      "text/plain": [
       "array([[ 25],\n",
       "       [ 26],\n",
       "       [ 36],\n",
       "       ...,\n",
       "       [ 19],\n",
       "       [158],\n",
       "       [ 99]], dtype=uint8)"
      ]
     },
     "execution_count": 17,
     "metadata": {},
     "output_type": "execute_result"
    }
   ],
   "source": [
    "X[0]"
   ]
  },
  {
   "cell_type": "code",
   "execution_count": 18,
   "id": "dc356a31",
   "metadata": {},
   "outputs": [
    {
     "data": {
      "text/plain": [
       "0"
      ]
     },
     "execution_count": 18,
     "metadata": {},
     "output_type": "execute_result"
    }
   ],
   "source": [
    "y[0]"
   ]
  },
  {
   "cell_type": "code",
   "execution_count": 19,
   "id": "6cf56f93",
   "metadata": {},
   "outputs": [
    {
     "data": {
      "text/plain": [
       "(264, 4096)"
      ]
     },
     "execution_count": 19,
     "metadata": {},
     "output_type": "execute_result"
    }
   ],
   "source": [
    "X = np.array(X).reshape(len(X),4096).astype(float)\n",
    "X.shape"
   ]
  },
  {
   "cell_type": "code",
   "execution_count": 20,
   "id": "2bcbd518",
   "metadata": {},
   "outputs": [],
   "source": [
    "from sklearn.svm import SVC\n",
    "from sklearn.preprocessing import StandardScaler\n",
    "from sklearn.model_selection import train_test_split\n",
    "from sklearn.pipeline import Pipeline\n",
    "from sklearn.metrics import classification_report"
   ]
  },
  {
   "cell_type": "code",
   "execution_count": 21,
   "id": "429ad3a3",
   "metadata": {},
   "outputs": [
    {
     "data": {
      "text/plain": [
       "0.7727272727272727"
      ]
     },
     "execution_count": 21,
     "metadata": {},
     "output_type": "execute_result"
    }
   ],
   "source": [
    "X_train, X_test, y_train, y_test = train_test_split(X, y, random_state=0)\n",
    "\n",
    "pipe = Pipeline([('scaler', StandardScaler()), ('svc', SVC(kernel = 'rbf', C = 10))])\n",
    "pipe.fit(X_train, y_train)\n",
    "pipe.score(X_test, y_test)"
   ]
  },
  {
   "cell_type": "code",
   "execution_count": 22,
   "id": "5b935965",
   "metadata": {},
   "outputs": [
    {
     "name": "stdout",
     "output_type": "stream",
     "text": [
      "              precision    recall  f1-score   support\n",
      "\n",
      "           0       0.75      0.82      0.78        11\n",
      "           1       0.72      0.87      0.79        15\n",
      "           2       0.88      1.00      0.94        15\n",
      "           3       0.80      0.67      0.73        12\n",
      "           4       0.67      0.46      0.55        13\n",
      "\n",
      "    accuracy                           0.77        66\n",
      "   macro avg       0.76      0.76      0.76        66\n",
      "weighted avg       0.77      0.77      0.76        66\n",
      "\n"
     ]
    }
   ],
   "source": [
    "print(classification_report(y_test, pipe.predict(X_test)))"
   ]
  },
  {
   "cell_type": "code",
   "execution_count": 23,
   "id": "0028e31a",
   "metadata": {},
   "outputs": [],
   "source": [
    "from sklearn import svm\n",
    "from sklearn.ensemble import RandomForestClassifier\n",
    "from sklearn.linear_model import LogisticRegression\n",
    "from sklearn.pipeline import make_pipeline\n",
    "from sklearn.model_selection import GridSearchCV"
   ]
  },
  {
   "cell_type": "code",
   "execution_count": 24,
   "id": "23db5b7c",
   "metadata": {},
   "outputs": [],
   "source": [
    "model_params = {\n",
    "    'svm': {\n",
    "        'model': svm.SVC(gamma='auto',probability=True),\n",
    "        'params' : {\n",
    "            'svc__C': [1,10,100,1000],\n",
    "            'svc__kernel': ['rbf','linear']\n",
    "        }  \n",
    "    },\n",
    "    'random_forest': {\n",
    "        'model': RandomForestClassifier(),\n",
    "        'params' : {\n",
    "            'randomforestclassifier__n_estimators': [1,5,10]\n",
    "        }\n",
    "    },\n",
    "    'logistic_regression' : {\n",
    "        'model': LogisticRegression(solver='liblinear',multi_class='auto'),\n",
    "        'params': {\n",
    "            'logisticregression__C': [1,5,10]\n",
    "        }\n",
    "    }\n",
    "}"
   ]
  },
  {
   "cell_type": "code",
   "execution_count": 25,
   "id": "8efd483d",
   "metadata": {},
   "outputs": [
    {
     "data": {
      "text/html": [
       "<div>\n",
       "<style scoped>\n",
       "    .dataframe tbody tr th:only-of-type {\n",
       "        vertical-align: middle;\n",
       "    }\n",
       "\n",
       "    .dataframe tbody tr th {\n",
       "        vertical-align: top;\n",
       "    }\n",
       "\n",
       "    .dataframe thead th {\n",
       "        text-align: right;\n",
       "    }\n",
       "</style>\n",
       "<table border=\"1\" class=\"dataframe\">\n",
       "  <thead>\n",
       "    <tr style=\"text-align: right;\">\n",
       "      <th></th>\n",
       "      <th>model</th>\n",
       "      <th>best_score</th>\n",
       "      <th>best_params</th>\n",
       "    </tr>\n",
       "  </thead>\n",
       "  <tbody>\n",
       "    <tr>\n",
       "      <th>0</th>\n",
       "      <td>svm</td>\n",
       "      <td>0.788077</td>\n",
       "      <td>{'svc__C': 1, 'svc__kernel': 'linear'}</td>\n",
       "    </tr>\n",
       "    <tr>\n",
       "      <th>1</th>\n",
       "      <td>random_forest</td>\n",
       "      <td>0.560256</td>\n",
       "      <td>{'randomforestclassifier__n_estimators': 10}</td>\n",
       "    </tr>\n",
       "    <tr>\n",
       "      <th>2</th>\n",
       "      <td>logistic_regression</td>\n",
       "      <td>0.768077</td>\n",
       "      <td>{'logisticregression__C': 10}</td>\n",
       "    </tr>\n",
       "  </tbody>\n",
       "</table>\n",
       "</div>"
      ],
      "text/plain": [
       "                 model  best_score  \\\n",
       "0                  svm    0.788077   \n",
       "1        random_forest    0.560256   \n",
       "2  logistic_regression    0.768077   \n",
       "\n",
       "                                    best_params  \n",
       "0        {'svc__C': 1, 'svc__kernel': 'linear'}  \n",
       "1  {'randomforestclassifier__n_estimators': 10}  \n",
       "2                 {'logisticregression__C': 10}  "
      ]
     },
     "execution_count": 25,
     "metadata": {},
     "output_type": "execute_result"
    }
   ],
   "source": [
    "scores = []\n",
    "best_estimators = {}\n",
    "import pandas as pd\n",
    "for algo, mp in model_params.items():\n",
    "    pipe = make_pipeline(StandardScaler(), mp['model'])\n",
    "    clf =  GridSearchCV(pipe, mp['params'], cv=5, return_train_score=False)\n",
    "    clf.fit(X_train, y_train)\n",
    "    scores.append({\n",
    "        'model': algo,\n",
    "        'best_score': clf.best_score_,\n",
    "        'best_params': clf.best_params_\n",
    "    })\n",
    "    best_estimators[algo] = clf.best_estimator_\n",
    "    \n",
    "df = pd.DataFrame(scores,columns=['model','best_score','best_params'])\n",
    "df"
   ]
  },
  {
   "cell_type": "code",
   "execution_count": 26,
   "id": "1d7df8fc",
   "metadata": {},
   "outputs": [
    {
     "data": {
      "text/plain": [
       "{'svm': Pipeline(steps=[('standardscaler', StandardScaler()),\n",
       "                 ('svc',\n",
       "                  SVC(C=1, gamma='auto', kernel='linear', probability=True))]),\n",
       " 'random_forest': Pipeline(steps=[('standardscaler', StandardScaler()),\n",
       "                 ('randomforestclassifier',\n",
       "                  RandomForestClassifier(n_estimators=10))]),\n",
       " 'logistic_regression': Pipeline(steps=[('standardscaler', StandardScaler()),\n",
       "                 ('logisticregression',\n",
       "                  LogisticRegression(C=10, solver='liblinear'))])}"
      ]
     },
     "execution_count": 26,
     "metadata": {},
     "output_type": "execute_result"
    }
   ],
   "source": [
    "best_estimators"
   ]
  },
  {
   "cell_type": "code",
   "execution_count": 27,
   "id": "0b026440",
   "metadata": {},
   "outputs": [
    {
     "data": {
      "text/plain": [
       "0.803030303030303"
      ]
     },
     "execution_count": 27,
     "metadata": {},
     "output_type": "execute_result"
    }
   ],
   "source": [
    "best_estimators['svm'].score(X_test,y_test)"
   ]
  },
  {
   "cell_type": "code",
   "execution_count": 28,
   "id": "147f5b5f",
   "metadata": {},
   "outputs": [
    {
     "data": {
      "text/plain": [
       "0.5303030303030303"
      ]
     },
     "execution_count": 28,
     "metadata": {},
     "output_type": "execute_result"
    }
   ],
   "source": [
    "best_estimators['random_forest'].score(X_test,y_test)"
   ]
  },
  {
   "cell_type": "code",
   "execution_count": 29,
   "id": "1d3798d8",
   "metadata": {},
   "outputs": [
    {
     "data": {
      "text/plain": [
       "0.8484848484848485"
      ]
     },
     "execution_count": 29,
     "metadata": {},
     "output_type": "execute_result"
    }
   ],
   "source": [
    "best_estimators['logistic_regression'].score(X_test,y_test)"
   ]
  },
  {
   "cell_type": "code",
   "execution_count": 30,
   "id": "85774d88",
   "metadata": {},
   "outputs": [],
   "source": [
    "best_clf = best_estimators['svm']"
   ]
  },
  {
   "cell_type": "code",
   "execution_count": 31,
   "id": "e0954d96",
   "metadata": {},
   "outputs": [
    {
     "data": {
      "text/plain": [
       "array([[11,  0,  0,  0,  0],\n",
       "       [ 0, 14,  0,  1,  0],\n",
       "       [ 0,  0, 15,  0,  0],\n",
       "       [ 1,  3,  0,  7,  1],\n",
       "       [ 1,  3,  1,  2,  6]])"
      ]
     },
     "execution_count": 31,
     "metadata": {},
     "output_type": "execute_result"
    }
   ],
   "source": [
    "from sklearn.metrics import confusion_matrix\n",
    "cm = confusion_matrix(y_test, best_clf.predict(X_test))\n",
    "cm"
   ]
  },
  {
   "cell_type": "code",
   "execution_count": 32,
   "id": "0490031a",
   "metadata": {},
   "outputs": [
    {
     "data": {
      "text/plain": [
       "Text(69.0, 0.5, 'Truth')"
      ]
     },
     "execution_count": 32,
     "metadata": {},
     "output_type": "execute_result"
    },
    {
     "data": {
      "image/png": "[encoded data removed]",
      "text/plain": [
       "<Figure size 720x504 with 2 Axes>"
      ]
     },
     "metadata": {
      "needs_background": "light"
     },
     "output_type": "display_data"
    }
   ],
   "source": [
    "import seaborn as sn\n",
    "plt.figure(figsize = (10,7))\n",
    "sn.heatmap(cm, annot=True)\n",
    "plt.xlabel('Predicted')\n",
    "plt.ylabel('Truth')"
   ]
  },
  {
   "cell_type": "code",
   "execution_count": 33,
   "id": "00bb336a",
   "metadata": {},
   "outputs": [
    {
     "data": {
      "text/plain": [
       "{'virat kohli': 0,\n",
       " 'stef curry': 1,\n",
       " 'sanya mirza': 2,\n",
       " 'Usain bolt ': 3,\n",
       " 'Messi': 4}"
      ]
     },
     "execution_count": 33,
     "metadata": {},
     "output_type": "execute_result"
    }
   ],
   "source": [
    "class_dict"
   ]
  },
  {
   "cell_type": "code",
   "execution_count": 34,
   "id": "8af3f147",
   "metadata": {},
   "outputs": [
    {
     "name": "stdout",
     "output_type": "stream",
     "text": [
      "Requirement already satisfied: joblib in /Users/harsha/opt/anaconda3/lib/python3.9/site-packages (1.1.0)\r\n"
     ]
    },
    {
     "data": {
      "text/plain": [
       "['saved_model.pkl']"
      ]
     },
     "execution_count": 34,
     "metadata": {},
     "output_type": "execute_result"
    }
   ],
   "source": [
    "!pip install joblib\n",
    "import joblib \n",
    "# Save the model as a pickle in a file \n",
    "joblib.dump(best_clf, 'saved_model.pkl') "
   ]
  },
  {
   "cell_type": "code",
   "execution_count": 35,
   "id": "07abefb7",
   "metadata": {},
   "outputs": [],
   "source": [
    "import json\n",
    "with open(\"class_dictionary.json\",\"w\") as f:\n",
    "    f.write(json.dumps(class_dict))"
   ]
  },
  {
   "cell_type": "code",
   "execution_count": null,
   "id": "13953591",
   "metadata": {},
   "outputs": [],
   "source": []
  }
 ],
 "metadata": {
  "kernelspec": {
   "display_name": "Python 3 (ipykernel)",
   "language": "python",
   "name": "python3"
  },
  "language_info": {
   "codemirror_mode": {
    "name": "ipython",
    "version": 3
   },
   "file_extension": ".py",
   "mimetype": "text/x-python",
   "name": "python",
   "nbconvert_exporter": "python",
   "pygments_lexer": "ipython3",
   "version": "3.10.9"
  }
 },
 "nbformat": 4,
 "nbformat_minor": 5
}
